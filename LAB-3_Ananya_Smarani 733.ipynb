{
 "cells": [
  {
   "cell_type": "markdown",
   "id": "d540026f-2872-4093-83ab-2ae632259267",
   "metadata": {},
   "source": [
    "# TASK-2B"
   ]
  },
  {
   "cell_type": "code",
   "execution_count": null,
   "id": "d1eb06f1-c32d-4cc1-94eb-931f8cbc2d83",
   "metadata": {},
   "outputs": [],
   "source": []
  }
 ],
 "metadata": {
  "kernelspec": {
   "display_name": "Python 3 (ipykernel)",
   "language": "python",
   "name": "python3"
  },
  "language_info": {
   "codemirror_mode": {
    "name": "ipython",
    "version": 3
   },
   "file_extension": ".py",
   "mimetype": "text/x-python",
   "name": "python",
   "nbconvert_exporter": "python",
   "pygments_lexer": "ipython3",
   "version": "3.12.4"
  }
 },
 "nbformat": 4,
 "nbformat_minor": 5
}
