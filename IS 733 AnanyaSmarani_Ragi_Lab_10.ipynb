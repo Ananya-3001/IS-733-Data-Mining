{
 "cells": [
  {
   "cell_type": "markdown",
   "id": "00d197bc",
   "metadata": {},
   "source": [
    "# Q2. Practice with PCA\n",
    "\n",
    "# 1. Dataset loading"
   ]
  },
  {
   "cell_type": "code",
   "execution_count": 1,
   "id": "bf8bafb8",
   "metadata": {},
   "outputs": [
    {
     "name": "stdout",
     "output_type": "stream",
     "text": [
      "<class 'pandas.core.frame.DataFrame'>\n",
      "RangeIndex: 52 entries, 0 to 51\n",
      "Data columns (total 13 columns):\n",
      " #   Column                                     Non-Null Count  Dtype \n",
      "---  ------                                     --------------  ----- \n",
      " 0   Job_Title                                  52 non-null     object\n",
      " 1   Flag                                       52 non-null     int64 \n",
      " 2   L1_Business opportunity                    52 non-null     int64 \n",
      " 3   L2_Find data sources                       52 non-null     int64 \n",
      " 4   L3_Explore and visualize data              52 non-null     int64 \n",
      " 5   L4_Develop data (Clean Data)               52 non-null     int64 \n",
      " 6   L5_Develop data (Feature-engineer)         52 non-null     int64 \n",
      " 7   L6_Develop data (Collect additional data)  52 non-null     int64 \n",
      " 8   L7_Train models                            52 non-null     int64 \n",
      " 9   L8_Deploy best model                       52 non-null     int64 \n",
      " 10  L9_Monitor and manage model usage          52 non-null     int64 \n",
      " 11  L10_Measure success                        52 non-null     int64 \n",
      " 12  L11_Retrain or retire model                52 non-null     int64 \n",
      "dtypes: int64(12), object(1)\n",
      "memory usage: 5.4+ KB\n",
      "None\n"
     ]
    }
   ],
   "source": [
    "import pandas as pd\n",
    "\n",
    "# Load dataset (replace 'file_path' with the actual path to your dataset)\n",
    "df = pd.read_csv('/Users/ananyasmaranikadivendi/Downloads/roles_life_cycle_mapping_wide.csv')\n",
    "\n",
    "# Check for missing values and data types\n",
    "print(df.info())"
   ]
  },
  {
   "cell_type": "markdown",
   "id": "2ca0d73c",
   "metadata": {},
   "source": [
    "# 2. Pre-processing\n",
    "\n",
    "# Identifing non-numeric columns"
   ]
  },
  {
   "cell_type": "code",
   "execution_count": 3,
   "id": "84717805",
   "metadata": {},
   "outputs": [
    {
     "name": "stdout",
     "output_type": "stream",
     "text": [
      "Job_Title                                    object\n",
      "Flag                                          int64\n",
      "L1_Business opportunity                       int64\n",
      "L2_Find data sources                          int64\n",
      "L3_Explore and visualize data                 int64\n",
      "L4_Develop data (Clean Data)                  int64\n",
      "L5_Develop data (Feature-engineer)            int64\n",
      "L6_Develop data (Collect additional data)     int64\n",
      "L7_Train models                               int64\n",
      "L8_Deploy best model                          int64\n",
      "L9_Monitor and manage model usage             int64\n",
      "L10_Measure success                           int64\n",
      "L11_Retrain or retire model                   int64\n",
      "dtype: object\n"
     ]
    }
   ],
   "source": [
    "# Check for non-numeric columns\n",
    "print(df.dtypes)"
   ]
  },
  {
   "cell_type": "markdown",
   "id": "7b66422e",
   "metadata": {},
   "source": [
    "# Handling non-numeric columns"
   ]
  },
  {
   "cell_type": "code",
   "execution_count": 4,
   "id": "ec85a840",
   "metadata": {},
   "outputs": [
    {
     "name": "stdout",
     "output_type": "stream",
     "text": [
      "   Flag  L1_Business opportunity  L2_Find data sources  \\\n",
      "0     1                        2                     3   \n",
      "1     1                        3                     1   \n",
      "2     1                        4                     1   \n",
      "3     1                        3                     2   \n",
      "4     1                        1                     1   \n",
      "\n",
      "   L3_Explore and visualize data  L4_Develop data (Clean Data)  \\\n",
      "0                              4                             3   \n",
      "1                              1                             1   \n",
      "2                              1                             0   \n",
      "3                              2                             1   \n",
      "4                              2                             1   \n",
      "\n",
      "   L5_Develop data (Feature-engineer)  \\\n",
      "0                                   3   \n",
      "1                                   1   \n",
      "2                                   1   \n",
      "3                                   2   \n",
      "4                                   2   \n",
      "\n",
      "   L6_Develop data (Collect additional data)  L7_Train models  \\\n",
      "0                                          2                4   \n",
      "1                                          0                2   \n",
      "2                                          1                1   \n",
      "3                                          2                1   \n",
      "4                                          2                2   \n",
      "\n",
      "   L8_Deploy best model  L9_Monitor and manage model usage  \\\n",
      "0                     4                                  3   \n",
      "1                     2                                  3   \n",
      "2                     1                                  2   \n",
      "3                     2                                  2   \n",
      "4                     4                                  4   \n",
      "\n",
      "   L10_Measure success  L11_Retrain or retire model  \n",
      "0                    3                            4  \n",
      "1                    4                            1  \n",
      "2                    3                            2  \n",
      "3                    2                            1  \n",
      "4                    4                            2  \n"
     ]
    }
   ],
   "source": [
    "# Drop non-numeric columns (for example, columns with string values like 'AI / ML Specialist')\n",
    "df_cleaned = df.select_dtypes(include=[float, int])  # This will keep only numeric columns\n",
    "\n",
    "# Check the cleaned dataset\n",
    "print(df_cleaned.head())\n"
   ]
  },
  {
   "cell_type": "markdown",
   "id": "bac37307",
   "metadata": {},
   "source": [
    "# Scaling"
   ]
  },
  {
   "cell_type": "code",
   "execution_count": 5,
   "id": "383ce010",
   "metadata": {},
   "outputs": [
    {
     "name": "stdout",
     "output_type": "stream",
     "text": [
      "Flag                                        -3.416071e-17\n",
      "L1_Business opportunity                     -1.323727e-16\n",
      "L2_Find data sources                        -5.337611e-18\n",
      "L3_Explore and visualize data                2.775558e-17\n",
      "L4_Develop data (Clean Data)                -1.110223e-16\n",
      "L5_Develop data (Feature-engineer)          -9.821204e-17\n",
      "L6_Develop data (Collect additional data)    8.753682e-17\n",
      "L7_Train models                             -4.270089e-18\n",
      "L8_Deploy best model                         3.629575e-17\n",
      "L9_Monitor and manage model usage            8.753682e-17\n",
      "L10_Measure success                          4.910602e-17\n",
      "L11_Retrain or retire model                  7.686159e-17\n",
      "dtype: float64\n",
      "Flag                                         1.009756\n",
      "L1_Business opportunity                      1.009756\n",
      "L2_Find data sources                         1.009756\n",
      "L3_Explore and visualize data                1.009756\n",
      "L4_Develop data (Clean Data)                 1.009756\n",
      "L5_Develop data (Feature-engineer)           1.009756\n",
      "L6_Develop data (Collect additional data)    1.009756\n",
      "L7_Train models                              1.009756\n",
      "L8_Deploy best model                         1.009756\n",
      "L9_Monitor and manage model usage            1.009756\n",
      "L10_Measure success                          1.009756\n",
      "L11_Retrain or retire model                  1.009756\n",
      "dtype: float64\n"
     ]
    }
   ],
   "source": [
    "from sklearn.preprocessing import StandardScaler\n",
    "\n",
    "# Standardize the features\n",
    "scaler = StandardScaler()\n",
    "scaled_data = scaler.fit_transform(df_cleaned)\n",
    "\n",
    "# Convert the scaled data into a DataFrame\n",
    "scaled_df = pd.DataFrame(scaled_data, columns=df_cleaned.columns)\n",
    "\n",
    "# Verify the scaling by checking the mean and standard deviation\n",
    "print(scaled_df.mean())  # Should be close to 0\n",
    "print(scaled_df.std())   # Should be close to 1\n"
   ]
  },
  {
   "cell_type": "markdown",
   "id": "16d3bd81",
   "metadata": {},
   "source": [
    "# 3. Performing PCA"
   ]
  },
  {
   "cell_type": "code",
   "execution_count": 22,
   "id": "99f91e2e",
   "metadata": {},
   "outputs": [
    {
     "name": "stdout",
     "output_type": "stream",
     "text": [
      "[1.02525310e-01 5.99781930e-02 3.36274074e-02 3.07733033e-02\n",
      " 2.57220568e-02 2.17410934e-02 1.91913966e-02 1.87173333e-02\n",
      " 1.84286530e-02 1.78195768e-02 1.74949487e-02 1.70606009e-02\n",
      " 1.61842515e-02 1.61842515e-02 1.61842515e-02 1.61842515e-02\n",
      " 1.61842515e-02 1.61842515e-02 1.61842515e-02 1.61842515e-02\n",
      " 1.61842515e-02 1.61842515e-02 1.61842515e-02 1.61842515e-02\n",
      " 1.61842515e-02 1.61842515e-02 1.61842515e-02 1.61842515e-02\n",
      " 1.61842515e-02 1.61842515e-02 1.61842515e-02 1.61842515e-02\n",
      " 1.61842515e-02 1.61842515e-02 1.61842515e-02 1.61842515e-02\n",
      " 1.61842515e-02 1.61842515e-02 1.61842515e-02 1.61842515e-02\n",
      " 1.61842515e-02 1.61842515e-02 1.61842515e-02 1.61842515e-02\n",
      " 1.61842515e-02 1.61842515e-02 1.61842515e-02 1.61842515e-02\n",
      " 1.61842515e-02 1.61842515e-02 1.91857109e-03 3.36436613e-33]\n"
     ]
    }
   ],
   "source": [
    "from sklearn.decomposition import PCA\n",
    "\n",
    "# Initialize PCA (you can specify the number of components if needed)\n",
    "pca = PCA()\n",
    "\n",
    "# Fit PCA on the scaled data\n",
    "pca.fit(scaled_df)\n",
    "\n",
    "# Output the explained variance ratio for each principal component\n",
    "print(pca.explained_variance_ratio_)\n"
   ]
  },
  {
   "cell_type": "markdown",
   "id": "6cc83914",
   "metadata": {},
   "source": [
    "# 4. Scree plot"
   ]
  },
  {
   "cell_type": "code",
   "execution_count": 10,
   "id": "63a40f93",
   "metadata": {},
   "outputs": [
    {
     "data": {
      "image/png": "[encoded data removed]",
      "text/plain": [
       "<Figure size 800x600 with 1 Axes>"
      ]
     },
     "metadata": {},
     "output_type": "display_data"
    },
    {
     "name": "stdout",
     "output_type": "stream",
     "text": [
      "[0.10252531 0.1625035  0.19613091 0.22690421 0.25262627 0.27436736\n",
      " 0.29355876 0.31227609 0.33070475 0.34852432 0.36601927 0.38307987\n",
      " 0.39926412 0.41544838 0.43163263 0.44781688 0.46400113 0.48018538\n",
      " 0.49636963 0.51255388 0.52873814 0.54492239 0.56110664 0.57729089\n",
      " 0.59347514 0.60965939 0.62584364 0.6420279  0.65821215 0.6743964\n",
      " 0.69058065 0.7067649  0.72294915 0.73913341 0.75531766 0.77150191\n",
      " 0.78768616 0.80387041 0.82005466 0.83623891 0.85242317 0.86860742\n",
      " 0.88479167 0.90097592 0.91716017 0.93334442 0.94952867 0.96571293\n",
      " 0.98189718 0.99808143 1.         1.        ]\n",
      "Number of components to retain: 48\n"
     ]
    }
   ],
   "source": [
    "import matplotlib.pyplot as plt\n",
    "\n",
    "# Plot the scree plot\n",
    "plt.figure(figsize=(8,6))\n",
    "plt.plot(range(1, len(pca.explained_variance_ratio_) + 1), pca.explained_variance_ratio_, marker='o', linestyle='--')\n",
    "plt.title('Scree Plot')\n",
    "plt.xlabel('Principal Component')\n",
    "plt.ylabel('Variance Explained')\n",
    "plt.grid(True)\n",
    "plt.show()\n",
    "\n",
    "# Calculate the cumulative variance\n",
    "cumulative_variance = pca.explained_variance_ratio_.cumsum()\n",
    "print(cumulative_variance)\n",
    "\n",
    "# Decide the number of components (e.g., choose components that explain >= 95% of the variance)\n",
    "n_components = next(i for i, v in enumerate(cumulative_variance) if v >= 0.95) + 1\n",
    "print(f\"Number of components to retain: {n_components}\")\n"
   ]
  },
  {
   "cell_type": "markdown",
   "id": "14905080",
   "metadata": {},
   "source": [
    "# 5. Output of the transformed data"
   ]
  },
  {
   "cell_type": "code",
   "execution_count": 11,
   "id": "9c0d2c26",
   "metadata": {},
   "outputs": [
    {
     "name": "stdout",
     "output_type": "stream",
     "text": [
      "        PC1       PC2       PC3       PC4       PC5       PC6       PC7  \\\n",
      "0  2.115841 -0.794160  0.029831  1.598573  0.266076 -0.487905  0.337158   \n",
      "1 -2.223689 -3.271760  2.316441  1.820370 -1.234816  0.793458  0.166931   \n",
      "2 -2.784240 -2.346692  3.726454  0.849257 -0.220941  0.767125 -0.787018   \n",
      "3 -1.786295 -0.501905  2.373715  2.068507  0.303595  0.175033 -0.963882   \n",
      "4 -0.247314 -3.123333  0.537282  3.249659  0.165129  1.846667 -0.142602   \n",
      "\n",
      "        PC8       PC9      PC10  ...          PC39          PC40  \\\n",
      "0  0.038988 -0.128358 -0.094287  ... -1.801052e-16 -2.297133e-17   \n",
      "1  1.299971  2.067419 -2.346628  ...  4.287963e-01  1.259714e-02   \n",
      "2 -0.870556 -1.114990 -1.145900  ...  1.737472e-01  2.665318e-01   \n",
      "3 -0.344832  0.823808  1.478757  ... -7.678168e-01 -2.486931e-01   \n",
      "4  0.133863  1.159831  3.423918  ... -2.624373e-02  4.959934e-01   \n",
      "\n",
      "           PC41          PC42          PC43          PC44          PC45  \\\n",
      "0 -2.143465e-16  6.773200e-17 -2.969636e-17  3.766327e-19 -3.675575e-17   \n",
      "1 -3.128670e-01  8.918295e-01  3.453056e-01  3.070971e-01 -8.310671e-02   \n",
      "2 -7.919912e-01 -5.761174e-01 -4.348995e-01 -5.201453e-02  2.993369e-01   \n",
      "3 -4.739480e-01 -6.273851e-01  1.536339e+00 -4.305320e-02  7.954410e-01   \n",
      "4 -3.349004e-01  9.329957e-01  1.892554e-01 -5.700902e-01  6.700984e-01   \n",
      "\n",
      "           PC46          PC47          PC48  \n",
      "0  6.972797e-17  6.851572e-17 -6.552692e-17  \n",
      "1 -1.122644e-01 -2.536290e-01 -5.240916e-01  \n",
      "2  1.106122e-01 -2.425362e-01 -1.419768e+00  \n",
      "3  2.855646e-01 -1.371736e+00  4.472159e-01  \n",
      "4 -7.999876e-02 -1.496659e-01  1.023901e+00  \n",
      "\n",
      "[5 rows x 48 columns]\n"
     ]
    }
   ],
   "source": [
    "# Transform the dataset to the new principal component space\n",
    "transformed_data = pca.transform(scaled_df)\n",
    "\n",
    "# Create a DataFrame with the transformed data\n",
    "transformed_df = pd.DataFrame(transformed_data[:, :n_components], columns=[f'PC{i+1}' for i in range(n_components)])\n",
    "\n",
    "# Show the transformed dataset\n",
    "print(transformed_df.head())\n"
   ]
  },
  {
   "cell_type": "markdown",
   "id": "4c00ae06",
   "metadata": {},
   "source": [
    "# 6. Scatter plot"
   ]
  },
  {
   "cell_type": "code",
   "execution_count": 12,
   "id": "300810bb",
   "metadata": {},
   "outputs": [
    {
     "data": {
      "image/png": "[encoded data removed]",
      "text/plain": [
       "<Figure size 800x600 with 1 Axes>"
      ]
     },
     "metadata": {},
     "output_type": "display_data"
    }
   ],
   "source": [
    "# Plot the first two principal components\n",
    "plt.figure(figsize=(8,6))\n",
    "plt.scatter(transformed_df['PC1'], transformed_df['PC2'])\n",
    "plt.title('Scatter Plot of the First Two Principal Components')\n",
    "plt.xlabel('PC1')\n",
    "plt.ylabel('PC2')\n",
    "plt.grid(True)\n",
    "plt.show()\n"
   ]
  },
  {
   "cell_type": "markdown",
   "id": "91541109",
   "metadata": {},
   "source": [
    "# Q3. Feature selection"
   ]
  },
  {
   "cell_type": "markdown",
   "id": "f26505e6",
   "metadata": {},
   "source": [
    "# Loading the dataset"
   ]
  },
  {
   "cell_type": "code",
   "execution_count": 13,
   "id": "15e1cd1e",
   "metadata": {},
   "outputs": [
    {
     "name": "stdout",
     "output_type": "stream",
     "text": [
      "   Age  Weight  Height  Neck  Chest  Abdomen    Hip  Thigh  Knee  Ankle  \\\n",
      "0   22   160.8    62.4  34.0   95.8     87.9   99.2   59.6  38.9   24.0   \n",
      "1   22   170.6    80.5  38.5   93.6     83.0   98.7   58.7  37.3   23.4   \n",
      "2   23   153.9    69.3  36.2   93.1     85.2   94.5   59.0  37.3   21.9   \n",
      "3   23   157.1    70.4  35.5   92.1     77.1   93.9   56.1  36.1   22.7   \n",
      "4   23   196.5    88.6  38.0   96.6     85.3  102.5   59.1  37.6   23.2   \n",
      "\n",
      "   Biceps  Forearm  Wrist  fatpctg  \n",
      "0    28.8     25.2   16.6     25.3  \n",
      "1    30.5     28.9   18.2      6.1  \n",
      "2    32.0     27.4   17.1     12.3  \n",
      "3    30.5     27.2   18.2      9.4  \n",
      "4    31.8     29.7   18.3     10.3  \n"
     ]
    }
   ],
   "source": [
    "import pandas as pd\n",
    "\n",
    "# Load the dataset (replace 'BMI.csv' with your actual file path)\n",
    "df = pd.read_csv('/Users/ananyasmaranikadivendi/Downloads/BMI.csv')\n",
    "\n",
    "# Inspect the dataset to ensure it has the appropriate structure\n",
    "print(df.head())"
   ]
  },
  {
   "cell_type": "markdown",
   "id": "9523487a",
   "metadata": {},
   "source": [
    "# Checking for leading or trailing spaces in columns"
   ]
  },
  {
   "cell_type": "code",
   "execution_count": 15,
   "id": "9452a7aa",
   "metadata": {},
   "outputs": [
    {
     "name": "stdout",
     "output_type": "stream",
     "text": [
      "Index(['Age', 'Weight', 'Height', 'Neck', 'Chest', 'Abdomen', 'Hip', 'Thigh',\n",
      "       'Knee', 'Ankle', 'Biceps', 'Forearm', 'Wrist', 'fatpctg'],\n",
      "      dtype='object')\n"
     ]
    }
   ],
   "source": [
    "# Remove leading/trailing spaces from column names\n",
    "df.columns = df.columns.str.strip()\n",
    "\n",
    "# Check the column names again\n",
    "print(df.columns)\n"
   ]
  },
  {
   "cell_type": "markdown",
   "id": "f0e13dc2",
   "metadata": {},
   "source": [
    "# Checking if the column 'age' exists before attempting to drop it"
   ]
  },
  {
   "cell_type": "code",
   "execution_count": 16,
   "id": "f6aadc52",
   "metadata": {},
   "outputs": [],
   "source": [
    "# Ensure 'age' exists in the DataFrame\n",
    "if 'age' in df.columns:\n",
    "    X = df.drop(columns=['fatpctg', 'age'])\n",
    "else:\n",
    "    X = df.drop(columns=['fatpctg'])\n",
    "    \n",
    "y = df['fatpctg']\n"
   ]
  },
  {
   "cell_type": "markdown",
   "id": "2be30dd4",
   "metadata": {},
   "source": [
    "# Wrapper Method - Recursive Feature Elimination - RFE"
   ]
  },
  {
   "cell_type": "code",
   "execution_count": 18,
   "id": "d196ae7f",
   "metadata": {},
   "outputs": [
    {
     "name": "stdout",
     "output_type": "stream",
     "text": [
      "Top features using RFE: Index(['Neck', 'Abdomen', 'Hip', 'Forearm', 'Wrist'], dtype='object')\n"
     ]
    }
   ],
   "source": [
    "from sklearn.feature_selection import RFE\n",
    "from sklearn.linear_model import LinearRegression\n",
    "\n",
    "# Initialize the model and RFE\n",
    "model = LinearRegression()\n",
    "rfe = RFE(estimator=model, n_features_to_select=5)  # Set n_features_to_select to desired number of features\n",
    "\n",
    "# Fit RFE on the data\n",
    "rfe.fit(X, y)\n",
    "\n",
    "# Get the top features\n",
    "top_rfe_features = X.columns[rfe.support_]\n",
    "print(\"Top features using RFE:\", top_rfe_features)"
   ]
  },
  {
   "cell_type": "markdown",
   "id": "b79d8fba",
   "metadata": {},
   "source": [
    "# Embedded Method - Lasso Regularization"
   ]
  },
  {
   "cell_type": "code",
   "execution_count": 19,
   "id": "99fc80c6",
   "metadata": {},
   "outputs": [
    {
     "name": "stdout",
     "output_type": "stream",
     "text": [
      "Top features using Lasso: Index(['Age', 'Weight', 'Height', 'Neck', 'Chest', 'Abdomen', 'Hip', 'Thigh',\n",
      "       'Knee', 'Ankle', 'Biceps', 'Forearm', 'Wrist'],\n",
      "      dtype='object')\n"
     ]
    }
   ],
   "source": [
    "from sklearn.linear_model import Lasso\n",
    "\n",
    "# Initialize Lasso model\n",
    "lasso = Lasso(alpha=0.01)  # Alpha is the regularization parameter\n",
    "\n",
    "# Fit Lasso model\n",
    "lasso.fit(X, y)\n",
    "\n",
    "# Get the coefficients of the features\n",
    "lasso_coefficients = pd.Series(lasso.coef_, index=X.columns)\n",
    "\n",
    "# Select non-zero coefficients as the top features\n",
    "top_lasso_features = lasso_coefficients[lasso_coefficients != 0].index\n",
    "print(\"Top features using Lasso:\", top_lasso_features)\n"
   ]
  },
  {
   "cell_type": "markdown",
   "id": "7379fcc9",
   "metadata": {},
   "source": [
    "# Filter Method - Correlation with Target Variable"
   ]
  },
  {
   "cell_type": "code",
   "execution_count": 20,
   "id": "5f873bdd",
   "metadata": {},
   "outputs": [
    {
     "name": "stdout",
     "output_type": "stream",
     "text": [
      "Top features using correlation filter: Index(['Age', 'Weight', 'Neck', 'Chest', 'Abdomen', 'Hip', 'Thigh', 'Knee',\n",
      "       'Ankle', 'Biceps', 'Forearm', 'Wrist'],\n",
      "      dtype='object')\n"
     ]
    }
   ],
   "source": [
    "# Calculate the correlation of each feature with the target variable\n",
    "correlation_matrix = X.corrwith(y)\n",
    "\n",
    "# Select features with a correlation greater than a threshold (e.g., 0.2)\n",
    "top_filter_features = correlation_matrix[correlation_matrix.abs() > 0.2].index\n",
    "print(\"Top features using correlation filter:\", top_filter_features)\n"
   ]
  },
  {
   "cell_type": "markdown",
   "id": "81d99bd1",
   "metadata": {},
   "source": [
    "# Output the Top Features"
   ]
  },
  {
   "cell_type": "code",
   "execution_count": 21,
   "id": "dc7ad632",
   "metadata": {},
   "outputs": [
    {
     "name": "stdout",
     "output_type": "stream",
     "text": [
      "Top features from RFE: Index(['Neck', 'Abdomen', 'Hip', 'Forearm', 'Wrist'], dtype='object')\n",
      "Top features from Lasso: Index(['Age', 'Weight', 'Height', 'Neck', 'Chest', 'Abdomen', 'Hip', 'Thigh',\n",
      "       'Knee', 'Ankle', 'Biceps', 'Forearm', 'Wrist'],\n",
      "      dtype='object')\n",
      "Top features from correlation filter: Index(['Age', 'Weight', 'Neck', 'Chest', 'Abdomen', 'Hip', 'Thigh', 'Knee',\n",
      "       'Ankle', 'Biceps', 'Forearm', 'Wrist'],\n",
      "      dtype='object')\n"
     ]
    }
   ],
   "source": [
    "print(\"Top features from RFE:\", top_rfe_features)\n",
    "print(\"Top features from Lasso:\", top_lasso_features)\n",
    "print(\"Top features from correlation filter:\", top_filter_features)\n"
   ]
  }
 ],
 "metadata": {
  "kernelspec": {
   "display_name": "Python 3 (ipykernel)",
   "language": "python",
   "name": "python3"
  },
  "language_info": {
   "codemirror_mode": {
    "name": "ipython",
    "version": 3
   },
   "file_extension": ".py",
   "mimetype": "text/x-python",
   "name": "python",
   "nbconvert_exporter": "python",
   "pygments_lexer": "ipython3",
   "version": "3.11.5"
  }
 },
 "nbformat": 4,
 "nbformat_minor": 5
}
