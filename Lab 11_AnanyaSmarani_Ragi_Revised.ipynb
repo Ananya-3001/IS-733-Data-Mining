{
 "cells": [
  {
   "cell_type": "markdown",
   "id": "f89fa937",
   "metadata": {},
   "source": [
    "# Part 2: Practice the NLP model to classify data stories"
   ]
  },
  {
   "cell_type": "markdown",
   "id": "1f0a48e1",
   "metadata": {},
   "source": [
    "# 1. Installing the required Libraries"
   ]
  },
  {
   "cell_type": "code",
   "execution_count": 1,
   "id": "66670e07",
   "metadata": {},
   "outputs": [
    {
     "name": "stdout",
     "output_type": "stream",
     "text": [
      "Requirement already satisfied: pandas in ./anaconda3/lib/python3.11/site-packages (2.2.3)\n",
      "Requirement already satisfied: scikit-learn in ./anaconda3/lib/python3.11/site-packages (1.4.2)\n",
      "Requirement already satisfied: nltk in ./anaconda3/lib/python3.11/site-packages (3.8.1)\n",
      "Requirement already satisfied: matplotlib in ./anaconda3/lib/python3.11/site-packages (3.9.2)\n",
      "Requirement already satisfied: numpy>=1.23.2 in ./anaconda3/lib/python3.11/site-packages (from pandas) (1.24.3)\n",
      "Requirement already satisfied: python-dateutil>=2.8.2 in ./anaconda3/lib/python3.11/site-packages (from pandas) (2.9.0.post0)\n",
      "Requirement already satisfied: pytz>=2020.1 in ./anaconda3/lib/python3.11/site-packages (from pandas) (2024.1)\n",
      "Requirement already satisfied: tzdata>=2022.7 in ./anaconda3/lib/python3.11/site-packages (from pandas) (2023.3)\n",
      "Requirement already satisfied: scipy>=1.6.0 in ./anaconda3/lib/python3.11/site-packages (from scikit-learn) (1.13.1)\n",
      "Requirement already satisfied: joblib>=1.2.0 in ./anaconda3/lib/python3.11/site-packages (from scikit-learn) (1.4.2)\n",
      "Requirement already satisfied: threadpoolctl>=2.0.0 in ./anaconda3/lib/python3.11/site-packages (from scikit-learn) (3.5.0)\n",
      "Requirement already satisfied: click in ./anaconda3/lib/python3.11/site-packages (from nltk) (8.1.7)\n",
      "Requirement already satisfied: regex>=2021.8.3 in ./anaconda3/lib/python3.11/site-packages (from nltk) (2024.9.11)\n",
      "Requirement already satisfied: tqdm in ./anaconda3/lib/python3.11/site-packages (from nltk) (4.66.5)\n",
      "Requirement already satisfied: contourpy>=1.0.1 in ./anaconda3/lib/python3.11/site-packages (from matplotlib) (1.2.0)\n",
      "Requirement already satisfied: cycler>=0.10 in ./anaconda3/lib/python3.11/site-packages (from matplotlib) (0.11.0)\n",
      "Requirement already satisfied: fonttools>=4.22.0 in ./anaconda3/lib/python3.11/site-packages (from matplotlib) (4.51.0)\n",
      "Requirement already satisfied: kiwisolver>=1.3.1 in ./anaconda3/lib/python3.11/site-packages (from matplotlib) (1.4.4)\n",
      "Requirement already satisfied: packaging>=20.0 in ./anaconda3/lib/python3.11/site-packages (from matplotlib) (24.1)\n",
      "Requirement already satisfied: pillow>=8 in ./anaconda3/lib/python3.11/site-packages (from matplotlib) (10.4.0)\n",
      "Requirement already satisfied: pyparsing>=2.3.1 in ./anaconda3/lib/python3.11/site-packages (from matplotlib) (3.1.2)\n",
      "Requirement already satisfied: six>=1.5 in ./anaconda3/lib/python3.11/site-packages (from python-dateutil>=2.8.2->pandas) (1.16.0)\n"
     ]
    }
   ],
   "source": [
    "# Install required libraries if not already installed\n",
    "!pip install pandas scikit-learn nltk matplotlib"
   ]
  },
  {
   "cell_type": "markdown",
   "id": "2a7314e6",
   "metadata": {},
   "source": [
    "# 2. Importing the required Libraries"
   ]
  },
  {
   "cell_type": "code",
   "execution_count": 2,
   "id": "8ba5e5dc",
   "metadata": {},
   "outputs": [
    {
     "name": "stderr",
     "output_type": "stream",
     "text": [
      "[nltk_data] Downloading package punkt to\n",
      "[nltk_data]     /Users/ananyasmaranikadivendi/nltk_data...\n",
      "[nltk_data]   Package punkt is already up-to-date!\n",
      "[nltk_data] Downloading package stopwords to\n",
      "[nltk_data]     /Users/ananyasmaranikadivendi/nltk_data...\n",
      "[nltk_data]   Package stopwords is already up-to-date!\n",
      "[nltk_data] Downloading package wordnet to\n",
      "[nltk_data]     /Users/ananyasmaranikadivendi/nltk_data...\n"
     ]
    },
    {
     "data": {
      "text/plain": [
       "True"
      ]
     },
     "execution_count": 2,
     "metadata": {},
     "output_type": "execute_result"
    }
   ],
   "source": [
    "import pandas as pd\n",
    "import numpy as np\n",
    "from sklearn.feature_extraction.text import TfidfVectorizer\n",
    "from sklearn.model_selection import cross_val_score, LeaveOneGroupOut\n",
    "from sklearn.linear_model import LogisticRegression\n",
    "from sklearn.svm import SVC\n",
    "from sklearn.ensemble import RandomForestClassifier\n",
    "from sklearn.metrics import roc_auc_score\n",
    "from nltk.tokenize import word_tokenize\n",
    "from nltk.corpus import stopwords\n",
    "from nltk.stem import WordNetLemmatizer\n",
    "import nltk\n",
    "\n",
    "# Download NLTK data\n",
    "nltk.download('punkt')\n",
    "nltk.download('stopwords')\n",
    "nltk.download('wordnet')"
   ]
  },
  {
   "cell_type": "markdown",
   "id": "453b46cf",
   "metadata": {},
   "source": [
    "# 3. Loading the Dataset"
   ]
  },
  {
   "cell_type": "code",
   "execution_count": 3,
   "id": "5244a028",
   "metadata": {},
   "outputs": [
    {
     "data": {
      "text/html": [
       "<div>\n",
       "<style scoped>\n",
       "    .dataframe tbody tr th:only-of-type {\n",
       "        vertical-align: middle;\n",
       "    }\n",
       "\n",
       "    .dataframe tbody tr th {\n",
       "        vertical-align: top;\n",
       "    }\n",
       "\n",
       "    .dataframe thead th {\n",
       "        text-align: right;\n",
       "    }\n",
       "</style>\n",
       "<table border=\"1\" class=\"dataframe\">\n",
       "  <thead>\n",
       "    <tr style=\"text-align: right;\">\n",
       "      <th></th>\n",
       "      <th>Plot_Name</th>\n",
       "      <th>Stage</th>\n",
       "      <th>Quality</th>\n",
       "      <th>Sentence</th>\n",
       "    </tr>\n",
       "  </thead>\n",
       "  <tbody>\n",
       "    <tr>\n",
       "      <th>0</th>\n",
       "      <td>walk dog</td>\n",
       "      <td>1</td>\n",
       "      <td>1.0</td>\n",
       "      <td>This is a line chart with error bars.</td>\n",
       "    </tr>\n",
       "    <tr>\n",
       "      <th>1</th>\n",
       "      <td>walk dog</td>\n",
       "      <td>1</td>\n",
       "      <td>1.0</td>\n",
       "      <td>The chart title is 'Walk dog'.</td>\n",
       "    </tr>\n",
       "    <tr>\n",
       "      <th>2</th>\n",
       "      <td>walk dog</td>\n",
       "      <td>1</td>\n",
       "      <td>1.0</td>\n",
       "      <td>The y-axis represents 'Mean anxiety'.</td>\n",
       "    </tr>\n",
       "    <tr>\n",
       "      <th>3</th>\n",
       "      <td>walk dog</td>\n",
       "      <td>1</td>\n",
       "      <td>1.0</td>\n",
       "      <td>The x-axis indicates conditions such as 'Basel...</td>\n",
       "    </tr>\n",
       "    <tr>\n",
       "      <th>4</th>\n",
       "      <td>walk dog</td>\n",
       "      <td>1</td>\n",
       "      <td>1.0</td>\n",
       "      <td>The chart compares mean anxiety levels with an...</td>\n",
       "    </tr>\n",
       "  </tbody>\n",
       "</table>\n",
       "</div>"
      ],
      "text/plain": [
       "  Plot_Name  Stage  Quality                                           Sentence\n",
       "0  walk dog      1      1.0              This is a line chart with error bars.\n",
       "1  walk dog      1      1.0                     The chart title is 'Walk dog'.\n",
       "2  walk dog      1      1.0              The y-axis represents 'Mean anxiety'.\n",
       "3  walk dog      1      1.0  The x-axis indicates conditions such as 'Basel...\n",
       "4  walk dog      1      1.0  The chart compares mean anxiety levels with an..."
      ]
     },
     "execution_count": 3,
     "metadata": {},
     "output_type": "execute_result"
    }
   ],
   "source": [
    "# Load your dataset (replace 'data.csv' with the actual dataset file)\n",
    "# Ensure the dataset has columns like 'Sentence', 'Label', and 'PlotID' for leave-one-plot-out\n",
    "df = pd.read_csv('/Users/ananyasmaranikadivendi/Downloads/data_stories_one_shot.csv')  # Replace with your dataset\n",
    "df.head()"
   ]
  },
  {
   "cell_type": "markdown",
   "id": "7e02c7d0",
   "metadata": {},
   "source": [
    "# 4. Preprocessing the text"
   ]
  },
  {
   "cell_type": "code",
   "execution_count": 4,
   "id": "7ff0aa9d",
   "metadata": {},
   "outputs": [
    {
     "data": {
      "text/html": [
       "<div>\n",
       "<style scoped>\n",
       "    .dataframe tbody tr th:only-of-type {\n",
       "        vertical-align: middle;\n",
       "    }\n",
       "\n",
       "    .dataframe tbody tr th {\n",
       "        vertical-align: top;\n",
       "    }\n",
       "\n",
       "    .dataframe thead th {\n",
       "        text-align: right;\n",
       "    }\n",
       "</style>\n",
       "<table border=\"1\" class=\"dataframe\">\n",
       "  <thead>\n",
       "    <tr style=\"text-align: right;\">\n",
       "      <th></th>\n",
       "      <th>Plot_Name</th>\n",
       "      <th>Stage</th>\n",
       "      <th>Quality</th>\n",
       "      <th>Sentence</th>\n",
       "      <th>Processed_Sentence</th>\n",
       "    </tr>\n",
       "  </thead>\n",
       "  <tbody>\n",
       "    <tr>\n",
       "      <th>0</th>\n",
       "      <td>walk dog</td>\n",
       "      <td>1</td>\n",
       "      <td>1.0</td>\n",
       "      <td>This is a line chart with error bars.</td>\n",
       "      <td>line chart error bar</td>\n",
       "    </tr>\n",
       "    <tr>\n",
       "      <th>1</th>\n",
       "      <td>walk dog</td>\n",
       "      <td>1</td>\n",
       "      <td>1.0</td>\n",
       "      <td>The chart title is 'Walk dog'.</td>\n",
       "      <td>chart title dog</td>\n",
       "    </tr>\n",
       "    <tr>\n",
       "      <th>2</th>\n",
       "      <td>walk dog</td>\n",
       "      <td>1</td>\n",
       "      <td>1.0</td>\n",
       "      <td>The y-axis represents 'Mean anxiety'.</td>\n",
       "      <td>represents anxiety</td>\n",
       "    </tr>\n",
       "    <tr>\n",
       "      <th>3</th>\n",
       "      <td>walk dog</td>\n",
       "      <td>1</td>\n",
       "      <td>1.0</td>\n",
       "      <td>The x-axis indicates conditions such as 'Basel...</td>\n",
       "      <td>indicates condition 30 minute presence absence</td>\n",
       "    </tr>\n",
       "    <tr>\n",
       "      <th>4</th>\n",
       "      <td>walk dog</td>\n",
       "      <td>1</td>\n",
       "      <td>1.0</td>\n",
       "      <td>The chart compares mean anxiety levels with an...</td>\n",
       "      <td>chart compare mean anxiety level without dog time</td>\n",
       "    </tr>\n",
       "  </tbody>\n",
       "</table>\n",
       "</div>"
      ],
      "text/plain": [
       "  Plot_Name  Stage  Quality  \\\n",
       "0  walk dog      1      1.0   \n",
       "1  walk dog      1      1.0   \n",
       "2  walk dog      1      1.0   \n",
       "3  walk dog      1      1.0   \n",
       "4  walk dog      1      1.0   \n",
       "\n",
       "                                            Sentence  \\\n",
       "0              This is a line chart with error bars.   \n",
       "1                     The chart title is 'Walk dog'.   \n",
       "2              The y-axis represents 'Mean anxiety'.   \n",
       "3  The x-axis indicates conditions such as 'Basel...   \n",
       "4  The chart compares mean anxiety levels with an...   \n",
       "\n",
       "                                  Processed_Sentence  \n",
       "0                               line chart error bar  \n",
       "1                                    chart title dog  \n",
       "2                                 represents anxiety  \n",
       "3     indicates condition 30 minute presence absence  \n",
       "4  chart compare mean anxiety level without dog time  "
      ]
     },
     "execution_count": 4,
     "metadata": {},
     "output_type": "execute_result"
    }
   ],
   "source": [
    "# Initialize preprocessing tools\n",
    "stop_words = set(stopwords.words('english'))\n",
    "lemmatizer = WordNetLemmatizer()\n",
    "\n",
    "def preprocess_text(sentence):\n",
    "    # Convert to lowercase\n",
    "    sentence = sentence.lower()\n",
    "    # Tokenize\n",
    "    tokens = word_tokenize(sentence)\n",
    "    # Remove stopwords and lemmatize\n",
    "    tokens = [lemmatizer.lemmatize(word) for word in tokens if word.isalnum() and word not in stop_words]\n",
    "    return ' '.join(tokens)\n",
    "\n",
    "# Apply preprocessing\n",
    "df['Processed_Sentence'] = df['Sentence'].apply(preprocess_text)\n",
    "df.head()"
   ]
  },
  {
   "cell_type": "markdown",
   "id": "45872978",
   "metadata": {},
   "source": [
    "# 5. Feature Extraction with TF-IDF"
   ]
  },
  {
   "cell_type": "code",
   "execution_count": 9,
   "id": "21758993",
   "metadata": {},
   "outputs": [
    {
     "name": "stdout",
     "output_type": "stream",
     "text": [
      "Index(['Plot_Name', 'Stage', 'Quality', 'Sentence', 'Processed_Sentence'], dtype='object')\n",
      "  Plot_Name  Stage  Quality  \\\n",
      "0  walk dog      1      1.0   \n",
      "1  walk dog      1      1.0   \n",
      "2  walk dog      1      1.0   \n",
      "3  walk dog      1      1.0   \n",
      "4  walk dog      1      1.0   \n",
      "\n",
      "                                            Sentence  \\\n",
      "0              This is a line chart with error bars.   \n",
      "1                     The chart title is 'Walk dog'.   \n",
      "2              The y-axis represents 'Mean anxiety'.   \n",
      "3  The x-axis indicates conditions such as 'Basel...   \n",
      "4  The chart compares mean anxiety levels with an...   \n",
      "\n",
      "                                  Processed_Sentence  \n",
      "0                               line chart error bar  \n",
      "1                                    chart title dog  \n",
      "2                                 represents anxiety  \n",
      "3     indicates condition 30 minute presence absence  \n",
      "4  chart compare mean anxiety level without dog time  \n",
      "Feature shape (TF-IDF): (130, 379)\n",
      "Labels: 0    1\n",
      "1    1\n",
      "2    1\n",
      "3    1\n",
      "4    1\n",
      "Name: Label, dtype: int64\n",
      "              precision    recall  f1-score   support\n",
      "\n",
      "           0       0.86      0.67      0.75         9\n",
      "           1       0.84      0.94      0.89        17\n",
      "\n",
      "    accuracy                           0.85        26\n",
      "   macro avg       0.85      0.80      0.82        26\n",
      "weighted avg       0.85      0.85      0.84        26\n",
      "\n"
     ]
    }
   ],
   "source": [
    "import pandas as pd\n",
    "from sklearn.feature_extraction.text import TfidfVectorizer\n",
    "from sklearn.model_selection import train_test_split\n",
    "from sklearn.linear_model import LogisticRegression\n",
    "from sklearn.metrics import classification_report\n",
    "\n",
    "# Step 1: Load and inspect the data\n",
    "print(df.columns)\n",
    "print(df.head())\n",
    "\n",
    "# Step 2: Create a Label column\n",
    "df['Label'] = df['Stage'].apply(lambda x: 1 if x == 1 else 0)\n",
    "\n",
    "# Step 3: Extract features and labels\n",
    "tfidf = TfidfVectorizer()\n",
    "X = tfidf.fit_transform(df['Processed_Sentence'])  # Features\n",
    "y = df['Label']  # Labels\n",
    "\n",
    "# Step 4: Verify TF-IDF features and labels\n",
    "print(\"Feature shape (TF-IDF):\", X.shape)\n",
    "print(\"Labels:\", y.head())\n",
    "\n",
    "# Step 5: Train-Test Split\n",
    "X_train, X_test, y_train, y_test = train_test_split(X, y, test_size=0.2, random_state=42)\n",
    "\n",
    "# Step 6: Train Logistic Regression Model\n",
    "model = LogisticRegression()\n",
    "model.fit(X_train, y_train)\n",
    "\n",
    "# Step 7: Make Predictions\n",
    "y_pred = model.predict(X_test)\n",
    "\n",
    "# Step 8: Evaluate the Model\n",
    "print(classification_report(y_test, y_pred))\n"
   ]
  },
  {
   "cell_type": "code",
   "execution_count": 10,
   "id": "3984031d",
   "metadata": {},
   "outputs": [],
   "source": [
    "# TF-IDF vectorization\n",
    "tfidf = TfidfVectorizer()\n",
    "X = tfidf.fit_transform(df['Processed_Sentence'])  # Features\n",
    "y = df['Label']  # Target (1 for \"show\", 0 for \"tell\")"
   ]
  },
  {
   "cell_type": "markdown",
   "id": "25b2a7f0",
   "metadata": {},
   "source": [
    "# 6. Machine Learning algorithms \n",
    "\n",
    "# a. Cross-Validation (Zero-Shot Setting)"
   ]
  },
  {
   "cell_type": "code",
   "execution_count": 11,
   "id": "3092c448",
   "metadata": {},
   "outputs": [
    {
     "name": "stdout",
     "output_type": "stream",
     "text": [
      "Logistic Regression: Mean AUC = 0.89\n",
      "SVM: Mean AUC = 0.88\n",
      "Random Forest: Mean AUC = 0.84\n"
     ]
    }
   ],
   "source": [
    "# Logistic Regression, SVM, Random Forest Models\n",
    "models = {\n",
    "    'Logistic Regression': LogisticRegression(max_iter=1000),\n",
    "    'SVM': SVC(probability=True),\n",
    "    'Random Forest': RandomForestClassifier()\n",
    "}\n",
    "\n",
    "# Perform cross-validation\n",
    "for model_name, model in models.items():\n",
    "    auc_scores = cross_val_score(model, X, y, scoring='roc_auc', cv=5)  # 5-fold cross-validation\n",
    "    print(f'{model_name}: Mean AUC = {np.mean(auc_scores):.2f}')\n"
   ]
  },
  {
   "cell_type": "code",
   "execution_count": 13,
   "id": "47b8001a",
   "metadata": {},
   "outputs": [
    {
     "name": "stdout",
     "output_type": "stream",
     "text": [
      "Index(['Plot_Name', 'Stage', 'Quality', 'Sentence', 'Processed_Sentence',\n",
      "       'Label'],\n",
      "      dtype='object')\n",
      "Group: MAP - Accuracy: 0.8\n",
      "Group: STEM - Accuracy: 0.7777777777777778\n",
      "Group: degree - Accuracy: 1.0\n",
      "Group: meaningful - Accuracy: 0.6363636363636364\n",
      "Group: solar activity - Accuracy: 0.7\n",
      "Group: time use - Accuracy: 1.0\n",
      "Group: tropic storm - Accuracy: 0.46153846153846156\n",
      "Group: vaccine - Accuracy: 0.36363636363636365\n",
      "Group: vaccine rate - Accuracy: 0.5833333333333334\n",
      "Group: walk dog - Accuracy: 0.5454545454545454\n",
      "Group: wealth gap - Accuracy: 0.4166666666666667\n",
      "Group: youtube - Accuracy: 0.5\n",
      "0\n"
     ]
    }
   ],
   "source": [
    "print(df.columns)\n",
    "from sklearn.model_selection import LeaveOneGroupOut\n",
    "\n",
    "# Ensure dataset has the appropriate column for grouping\n",
    "logo = LeaveOneGroupOut()\n",
    "groups = df['Plot_Name']  # Use the correct column name\n",
    "from sklearn.model_selection import LeaveOneGroupOut\n",
    "from sklearn.linear_model import LogisticRegression\n",
    "from sklearn.metrics import accuracy_score\n",
    "\n",
    "# Example dataset setup (ensure this matches your data)\n",
    "tfidf = TfidfVectorizer()\n",
    "X = tfidf.fit_transform(df['Processed_Sentence'])  # Features\n",
    "y = df['Label']  # Target labels\n",
    "groups = df['Plot_Name']  # Grouping column\n",
    "\n",
    "# Initialize Leave-One-Group-Out\n",
    "logo = LeaveOneGroupOut()\n",
    "\n",
    "# Example model\n",
    "model = LogisticRegression()\n",
    "\n",
    "# Leave-One-Group-Out evaluation\n",
    "for train_idx, test_idx in logo.split(X, y, groups=groups):\n",
    "    X_train, X_test = X[train_idx], X[test_idx]\n",
    "    y_train, y_test = y.iloc[train_idx], y.iloc[test_idx]\n",
    "\n",
    "    # Train the model\n",
    "    model.fit(X_train, y_train)\n",
    "\n",
    "    # Make predictions\n",
    "    y_pred = model.predict(X_test)\n",
    "\n",
    "    # Evaluate performance for the current group\n",
    "    acc = accuracy_score(y_test, y_pred)\n",
    "    print(f\"Group: {df['Plot_Name'].iloc[test_idx].unique()[0]} - Accuracy: {acc}\")\n",
    "print(df['Plot_Name'].isnull().sum())  # Check for missing values\n",
    "df['Plot_Name'].fillna('Unknown', inplace=True)  # Replace missing values if needed\n",
    "df['Group'] = df['Stage'].astype(str) + \"_\" + df['Quality'].astype(str)\n",
    "groups = df['Group']\n"
   ]
  },
  {
   "cell_type": "code",
   "execution_count": 23,
   "id": "aee048a2",
   "metadata": {},
   "outputs": [
    {
     "name": "stdout",
     "output_type": "stream",
     "text": [
      "Class distribution in target variable (y):\n",
      "0    5\n",
      "Name: count, dtype: int64\n"
     ]
    }
   ],
   "source": [
    "import pandas as pd\n",
    "\n",
    "# Convert y (NumPy array) to a Pandas Series for easy manipulation\n",
    "y_series = pd.Series(y)\n",
    "\n",
    "# Print the class distribution\n",
    "print(\"Class distribution in target variable (y):\")\n",
    "print(y_series.value_counts())\n"
   ]
  },
  {
   "cell_type": "code",
   "execution_count": 24,
   "id": "2d812163",
   "metadata": {},
   "outputs": [
    {
     "name": "stdout",
     "output_type": "stream",
     "text": [
      "Class distribution in training set:\n",
      "0    3\n",
      "Name: count, dtype: int64\n",
      "Class distribution in testing set:\n",
      "0    2\n",
      "Name: count, dtype: int64\n"
     ]
    }
   ],
   "source": [
    "from sklearn.model_selection import train_test_split\n",
    "\n",
    "# Split dataset with stratification\n",
    "X_train, X_test, y_train, y_test = train_test_split(X, y, test_size=0.3, random_state=42, stratify=y)\n",
    "\n",
    "# Check the class distribution in training and testing sets\n",
    "print(\"Class distribution in training set:\")\n",
    "print(pd.Series(y_train).value_counts())\n",
    "\n",
    "print(\"Class distribution in testing set:\")\n",
    "print(pd.Series(y_test).value_counts())\n"
   ]
  },
  {
   "cell_type": "code",
   "execution_count": 27,
   "id": "dea18127",
   "metadata": {},
   "outputs": [
    {
     "name": "stdout",
     "output_type": "stream",
     "text": [
      "Index(['Plot_Name', 'Stage', 'Quality', 'Sentence'], dtype='object')\n"
     ]
    }
   ],
   "source": [
    "df = pd.read_csv('/Users/ananyasmaranikadivendi/Downloads/data_stories_one_shot.csv')\n",
    "print(df.columns)  # Print column names to find the correct one"
   ]
  },
  {
   "cell_type": "markdown",
   "id": "0103968d",
   "metadata": {},
   "source": [
    "# Logistic regression, SVM and Naive bayes"
   ]
  },
  {
   "cell_type": "code",
   "execution_count": 30,
   "id": "7e0aa8a4",
   "metadata": {},
   "outputs": [
    {
     "name": "stdout",
     "output_type": "stream",
     "text": [
      "Index(['Plot_Name', 'Stage', 'Quality', 'Sentence'], dtype='object')\n",
      "\n",
      "Training Logistic Regression model:\n",
      "              precision    recall  f1-score   support\n",
      "\n",
      "           0       0.00      0.00      0.00         2\n",
      "           1       0.00      0.00      0.00         1\n",
      "           2       0.88      1.00      0.94        23\n",
      "\n",
      "    accuracy                           0.88        26\n",
      "   macro avg       0.29      0.33      0.31        26\n",
      "weighted avg       0.78      0.88      0.83        26\n",
      "\n",
      "\n",
      "Training SVM model:\n",
      "              precision    recall  f1-score   support\n",
      "\n",
      "           0       1.00      0.50      0.67         2\n",
      "           1       0.00      0.00      0.00         1\n",
      "           2       0.92      1.00      0.96        23\n",
      "\n",
      "    accuracy                           0.92        26\n",
      "   macro avg       0.64      0.50      0.54        26\n",
      "weighted avg       0.89      0.92      0.90        26\n",
      "\n",
      "\n",
      "Training Naive Bayes model:\n",
      "              precision    recall  f1-score   support\n",
      "\n",
      "           0       0.00      0.00      0.00         2\n",
      "           1       0.00      0.00      0.00         1\n",
      "           2       0.88      1.00      0.94        23\n",
      "\n",
      "    accuracy                           0.88        26\n",
      "   macro avg       0.29      0.33      0.31        26\n",
      "weighted avg       0.78      0.88      0.83        26\n",
      "\n"
     ]
    },
    {
     "name": "stderr",
     "output_type": "stream",
     "text": [
      "/Users/ananyasmaranikadivendi/anaconda3/lib/python3.11/site-packages/sklearn/metrics/_classification.py:1531: UndefinedMetricWarning: Precision is ill-defined and being set to 0.0 in labels with no predicted samples. Use `zero_division` parameter to control this behavior.\n",
      "  _warn_prf(average, modifier, f\"{metric.capitalize()} is\", len(result))\n",
      "/Users/ananyasmaranikadivendi/anaconda3/lib/python3.11/site-packages/sklearn/metrics/_classification.py:1531: UndefinedMetricWarning: Precision is ill-defined and being set to 0.0 in labels with no predicted samples. Use `zero_division` parameter to control this behavior.\n",
      "  _warn_prf(average, modifier, f\"{metric.capitalize()} is\", len(result))\n",
      "/Users/ananyasmaranikadivendi/anaconda3/lib/python3.11/site-packages/sklearn/metrics/_classification.py:1531: UndefinedMetricWarning: Precision is ill-defined and being set to 0.0 in labels with no predicted samples. Use `zero_division` parameter to control this behavior.\n",
      "  _warn_prf(average, modifier, f\"{metric.capitalize()} is\", len(result))\n",
      "/Users/ananyasmaranikadivendi/anaconda3/lib/python3.11/site-packages/sklearn/metrics/_classification.py:1531: UndefinedMetricWarning: Precision is ill-defined and being set to 0.0 in labels with no predicted samples. Use `zero_division` parameter to control this behavior.\n",
      "  _warn_prf(average, modifier, f\"{metric.capitalize()} is\", len(result))\n",
      "/Users/ananyasmaranikadivendi/anaconda3/lib/python3.11/site-packages/sklearn/metrics/_classification.py:1531: UndefinedMetricWarning: Precision is ill-defined and being set to 0.0 in labels with no predicted samples. Use `zero_division` parameter to control this behavior.\n",
      "  _warn_prf(average, modifier, f\"{metric.capitalize()} is\", len(result))\n",
      "/Users/ananyasmaranikadivendi/anaconda3/lib/python3.11/site-packages/sklearn/metrics/_classification.py:1531: UndefinedMetricWarning: Precision is ill-defined and being set to 0.0 in labels with no predicted samples. Use `zero_division` parameter to control this behavior.\n",
      "  _warn_prf(average, modifier, f\"{metric.capitalize()} is\", len(result))\n",
      "/Users/ananyasmaranikadivendi/anaconda3/lib/python3.11/site-packages/sklearn/metrics/_classification.py:1531: UndefinedMetricWarning: Precision is ill-defined and being set to 0.0 in labels with no predicted samples. Use `zero_division` parameter to control this behavior.\n",
      "  _warn_prf(average, modifier, f\"{metric.capitalize()} is\", len(result))\n",
      "/Users/ananyasmaranikadivendi/anaconda3/lib/python3.11/site-packages/sklearn/metrics/_classification.py:1531: UndefinedMetricWarning: Precision is ill-defined and being set to 0.0 in labels with no predicted samples. Use `zero_division` parameter to control this behavior.\n",
      "  _warn_prf(average, modifier, f\"{metric.capitalize()} is\", len(result))\n",
      "/Users/ananyasmaranikadivendi/anaconda3/lib/python3.11/site-packages/sklearn/metrics/_classification.py:1531: UndefinedMetricWarning: Precision is ill-defined and being set to 0.0 in labels with no predicted samples. Use `zero_division` parameter to control this behavior.\n",
      "  _warn_prf(average, modifier, f\"{metric.capitalize()} is\", len(result))\n"
     ]
    }
   ],
   "source": [
    "import pandas as pd\n",
    "from sklearn.feature_extraction.text import TfidfVectorizer\n",
    "from sklearn.model_selection import train_test_split\n",
    "from sklearn.linear_model import LogisticRegression\n",
    "from sklearn.svm import SVC\n",
    "from sklearn.naive_bayes import MultinomialNB\n",
    "from sklearn.metrics import classification_report\n",
    "from sklearn.preprocessing import LabelEncoder\n",
    "import string\n",
    "from nltk.corpus import stopwords\n",
    "from nltk.tokenize import word_tokenize\n",
    "from nltk.stem import WordNetLemmatizer\n",
    "\n",
    "# Step 1: Preprocess Text\n",
    "def preprocess_text(text):\n",
    "    lemmatizer = WordNetLemmatizer()\n",
    "    stop_words = set(stopwords.words('english'))\n",
    "    # Convert to lowercase\n",
    "    text = text.lower()\n",
    "    # Remove punctuation\n",
    "    text = text.translate(str.maketrans('', '', string.punctuation))\n",
    "    # Tokenize and remove stopwords\n",
    "    tokens = word_tokenize(text)\n",
    "    tokens = [lemmatizer.lemmatize(word) for word in tokens if word not in stop_words]\n",
    "    return ' '.join(tokens)\n",
    "\n",
    "# Step 2: Load and preprocess dataset\n",
    "df = pd.read_csv('/Users/ananyasmaranikadivendi/Downloads/data_stories_one_shot.csv')  # Load your dataset (update the path)\n",
    "\n",
    "# Print columns to inspect\n",
    "print(df.columns)\n",
    "\n",
    "# Use 'Sentence' column instead of 'Story'\n",
    "df['Processed_Sentence'] = df['Sentence'].apply(preprocess_text)  # Update 'Sentence' with the correct column name\n",
    "label_encoder = LabelEncoder()\n",
    "\n",
    "# Encode target labels (assuming target column is 'Quality')\n",
    "df['Quality'] = label_encoder.fit_transform(df['Quality'])\n",
    "\n",
    "# Step 3: Feature extraction using TF-IDF\n",
    "tfidf = TfidfVectorizer()\n",
    "X = tfidf.fit_transform(df['Processed_Sentence'])  # Features\n",
    "y = df['Quality']  # Target variable\n",
    "\n",
    "# Step 4: Train-test split\n",
    "X_train, X_test, y_train, y_test = train_test_split(X, y, test_size=0.2, random_state=42)\n",
    "\n",
    "# Step 5: Train models and evaluate\n",
    "models = {\n",
    "    \"Logistic Regression\": LogisticRegression(),\n",
    "    \"SVM\": SVC(),\n",
    "    \"Naive Bayes\": MultinomialNB()\n",
    "}\n",
    "\n",
    "for model_name, model in models.items():\n",
    "    print(f\"\\nTraining {model_name} model:\")\n",
    "    model.fit(X_train, y_train)\n",
    "    y_pred = model.predict(X_test)\n",
    "    print(classification_report(y_test, y_pred))\n",
    "\n",
    "# Optional: Add Random Forest or other models to compare if needed.\n"
   ]
  },
  {
   "cell_type": "markdown",
   "id": "46a4c27e",
   "metadata": {},
   "source": [
    "# Bonus"
   ]
  },
  {
   "cell_type": "code",
   "execution_count": null,
   "id": "0c35a9ac",
   "metadata": {},
   "outputs": [
    {
     "name": "stdout",
     "output_type": "stream",
     "text": [
      "Collecting sentence-transformers\n",
      "  Obtaining dependency information for sentence-transformers from https://files.pythonhosted.org/packages/8b/c8/990e22a465e4771338da434d799578865d6d7ef1fdb50bd844b7ecdcfa19/sentence_transformers-3.3.1-py3-none-any.whl.metadata\n",
      "  Downloading sentence_transformers-3.3.1-py3-none-any.whl.metadata (10 kB)\n",
      "Collecting transformers<5.0.0,>=4.41.0 (from sentence-transformers)\n",
      "  Obtaining dependency information for transformers<5.0.0,>=4.41.0 from https://files.pythonhosted.org/packages/51/51/b87caa939fedf307496e4dbf412f4b909af3d9ca8b189fc3b65c1faa456f/transformers-4.46.3-py3-none-any.whl.metadata\n",
      "  Downloading transformers-4.46.3-py3-none-any.whl.metadata (44 kB)\n",
      "\u001b[2K     \u001b[90m━━━━━━━━━━━━━━━━━━━━━━━━━━━━━━━━━━━━━━━\u001b[0m \u001b[32m44.1/44.1 kB\u001b[0m \u001b[31m904.0 kB/s\u001b[0m eta \u001b[36m0:00:00\u001b[0m \u001b[36m0:00:01\u001b[0m\n",
      "\u001b[?25hRequirement already satisfied: tqdm in ./anaconda3/lib/python3.11/site-packages (from sentence-transformers) (4.66.5)\n",
      "Requirement already satisfied: torch>=1.11.0 in ./anaconda3/lib/python3.11/site-packages (from sentence-transformers) (2.2.2)\n",
      "Requirement already satisfied: scikit-learn in ./anaconda3/lib/python3.11/site-packages (from sentence-transformers) (1.4.2)\n",
      "Requirement already satisfied: scipy in ./anaconda3/lib/python3.11/site-packages (from sentence-transformers) (1.13.1)\n",
      "Requirement already satisfied: huggingface-hub>=0.20.0 in ./anaconda3/lib/python3.11/site-packages (from sentence-transformers) (0.24.6)\n",
      "Requirement already satisfied: Pillow in ./anaconda3/lib/python3.11/site-packages (from sentence-transformers) (10.4.0)\n",
      "Requirement already satisfied: filelock in ./anaconda3/lib/python3.11/site-packages (from huggingface-hub>=0.20.0->sentence-transformers) (3.13.1)\n",
      "Requirement already satisfied: fsspec>=2023.5.0 in ./anaconda3/lib/python3.11/site-packages (from huggingface-hub>=0.20.0->sentence-transformers) (2024.6.1)\n",
      "Requirement already satisfied: packaging>=20.9 in ./anaconda3/lib/python3.11/site-packages (from huggingface-hub>=0.20.0->sentence-transformers) (24.1)\n",
      "Requirement already satisfied: pyyaml>=5.1 in ./anaconda3/lib/python3.11/site-packages (from huggingface-hub>=0.20.0->sentence-transformers) (6.0.2)\n",
      "Requirement already satisfied: requests in ./anaconda3/lib/python3.11/site-packages (from huggingface-hub>=0.20.0->sentence-transformers) (2.32.3)\n",
      "Requirement already satisfied: typing-extensions>=3.7.4.3 in ./anaconda3/lib/python3.11/site-packages (from huggingface-hub>=0.20.0->sentence-transformers) (4.11.0)\n",
      "Requirement already satisfied: sympy in ./anaconda3/lib/python3.11/site-packages (from torch>=1.11.0->sentence-transformers) (1.13.2)\n",
      "Requirement already satisfied: networkx in ./anaconda3/lib/python3.11/site-packages (from torch>=1.11.0->sentence-transformers) (3.3)\n",
      "Requirement already satisfied: jinja2 in ./anaconda3/lib/python3.11/site-packages (from torch>=1.11.0->sentence-transformers) (3.1.4)\n",
      "Requirement already satisfied: numpy>=1.17 in ./anaconda3/lib/python3.11/site-packages (from transformers<5.0.0,>=4.41.0->sentence-transformers) (1.24.3)\n",
      "Requirement already satisfied: regex!=2019.12.17 in ./anaconda3/lib/python3.11/site-packages (from transformers<5.0.0,>=4.41.0->sentence-transformers) (2024.9.11)\n",
      "Collecting tokenizers<0.21,>=0.20 (from transformers<5.0.0,>=4.41.0->sentence-transformers)\n",
      "  Obtaining dependency information for tokenizers<0.21,>=0.20 from https://files.pythonhosted.org/packages/c6/93/6742ef9206409d5ce1fdf44d5ca1687cdc3847ba0485424e2c731e6bcf67/tokenizers-0.20.3-cp311-cp311-macosx_10_12_x86_64.whl.metadata\n",
      "  Downloading tokenizers-0.20.3-cp311-cp311-macosx_10_12_x86_64.whl.metadata (6.7 kB)\n",
      "Requirement already satisfied: safetensors>=0.4.1 in ./anaconda3/lib/python3.11/site-packages (from transformers<5.0.0,>=4.41.0->sentence-transformers) (0.4.5)\n",
      "Requirement already satisfied: joblib>=1.2.0 in ./anaconda3/lib/python3.11/site-packages (from scikit-learn->sentence-transformers) (1.4.2)\n",
      "Requirement already satisfied: threadpoolctl>=2.0.0 in ./anaconda3/lib/python3.11/site-packages (from scikit-learn->sentence-transformers) (3.5.0)\n",
      "Requirement already satisfied: MarkupSafe>=2.0 in ./anaconda3/lib/python3.11/site-packages (from jinja2->torch>=1.11.0->sentence-transformers) (2.1.5)\n",
      "Requirement already satisfied: charset-normalizer<4,>=2 in ./anaconda3/lib/python3.11/site-packages (from requests->huggingface-hub>=0.20.0->sentence-transformers) (3.3.2)\n",
      "Requirement already satisfied: idna<4,>=2.5 in ./anaconda3/lib/python3.11/site-packages (from requests->huggingface-hub>=0.20.0->sentence-transformers) (3.7)\n",
      "Requirement already satisfied: urllib3<3,>=1.21.1 in ./anaconda3/lib/python3.11/site-packages (from requests->huggingface-hub>=0.20.0->sentence-transformers) (2.2.3)\n",
      "Requirement already satisfied: certifi>=2017.4.17 in ./anaconda3/lib/python3.11/site-packages (from requests->huggingface-hub>=0.20.0->sentence-transformers) (2024.8.30)\n",
      "Requirement already satisfied: mpmath<1.4,>=1.1.0 in ./anaconda3/lib/python3.11/site-packages (from sympy->torch>=1.11.0->sentence-transformers) (1.3.0)\n",
      "Downloading sentence_transformers-3.3.1-py3-none-any.whl (268 kB)\n",
      "\u001b[2K   \u001b[90m━━━━━━━━━━━━━━━━━━━━━━━━━━━━━━━━━━━━━━━━\u001b[0m \u001b[32m268.8/268.8 kB\u001b[0m \u001b[31m3.7 MB/s\u001b[0m eta \u001b[36m0:00:00\u001b[0ma \u001b[36m0:00:01\u001b[0m\n",
      "\u001b[?25hDownloading transformers-4.46.3-py3-none-any.whl (10.0 MB)\n",
      "\u001b[2K   \u001b[90m━━━━━━━━━━━━━━━━━━━━━━━━━━━━━━━━━━━━━━━━\u001b[0m \u001b[32m10.0/10.0 MB\u001b[0m \u001b[31m23.2 MB/s\u001b[0m eta \u001b[36m0:00:00\u001b[0m00:01\u001b[0m0:01\u001b[0m\n",
      "\u001b[?25hDownloading tokenizers-0.20.3-cp311-cp311-macosx_10_12_x86_64.whl (2.7 MB)\n",
      "\u001b[2K   \u001b[90m━━━━━━━━━━━━━━━━━━━━━━━━━━━━━━━━━━━━━━━━\u001b[0m \u001b[32m2.7/2.7 MB\u001b[0m \u001b[31m18.4 MB/s\u001b[0m eta \u001b[36m0:00:00\u001b[0m00:01\u001b[0m00:01\u001b[0m\n",
      "\u001b[?25hInstalling collected packages: tokenizers, transformers, sentence-transformers\n",
      "  Attempting uninstall: tokenizers\n",
      "    Found existing installation: tokenizers 0.13.2\n",
      "    Uninstalling tokenizers-0.13.2:\n",
      "      Successfully uninstalled tokenizers-0.13.2\n",
      "  Attempting uninstall: transformers\n",
      "    Found existing installation: transformers 4.32.1\n",
      "    Uninstalling transformers-4.32.1:\n",
      "      Successfully uninstalled transformers-4.32.1\n",
      "Successfully installed sentence-transformers-3.3.1 tokenizers-0.20.3 transformers-4.46.3\n"
     ]
    }
   ],
   "source": [
    "!pip install sentence-transformers\n",
    "\n",
    "from sentence_transformers import SentenceTransformer\n",
    "\n",
    "# Load BERT-based SentenceTransformer model\n",
    "model = SentenceTransformer('all-MiniLM-L6-v2')\n",
    "\n",
    "# Create embeddings for sentences\n",
    "X_embeddings = model.encode(df['Processed_Sentence'])\n",
    "\n",
    "# Use embeddings with models\n",
    "for model_name, model in models.items():\n",
    "    auc_scores = cross_val_score(model, X_embeddings, y, scoring='roc_auc', cv=5)\n",
    "    print(f'{model_name} with Sentence Embeddings: Mean AUC = {np.mean(auc_scores):.2f}')\n"
   ]
  },
  {
   "cell_type": "code",
   "execution_count": 2,
   "id": "07b3d4cc",
   "metadata": {},
   "outputs": [],
   "source": [
    "import pandas as pd\n",
    "\n",
    "# Now you can create the DataFrame\n",
    "results = pd.DataFrame({\n",
    "    'Model': ['Logistic Regression', 'SVM', 'Random Forest'],\n",
    "    'AUC_CrossVal': [0.93, 0.94, 0.92],  # Replace with your actual results\n",
    "    'AUC_LeaveOneOut': [0.95, 0.95, 0.95]  # Replace with actual results\n",
    "})\n",
    "\n",
    "# Save to CSV\n",
    "results.to_csv('/Users/ananyasmaranikadivendi/Downloads/data_stories_one_shot.csv', index=False)"
   ]
  },
  {
   "cell_type": "code",
   "execution_count": 3,
   "id": "c7ad9bb6",
   "metadata": {},
   "outputs": [
    {
     "data": {
      "image/png": "[encoded data removed]",
      "text/plain": [
       "<Figure size 800x600 with 1 Axes>"
      ]
     },
     "metadata": {},
     "output_type": "display_data"
    }
   ],
   "source": [
    "import matplotlib.pyplot as plt\n",
    "\n",
    "# Example visualization for AUC scores\n",
    "results.plot(kind='bar', x='Model', figsize=(8, 6), title='Model Performance (AUC)')\n",
    "plt.ylabel('AUC Score')\n",
    "plt.show()"
   ]
  },
  {
   "cell_type": "code",
   "execution_count": 7,
   "id": "2279dec5",
   "metadata": {},
   "outputs": [
    {
     "name": "stdout",
     "output_type": "stream",
     "text": [
      "Index(['Model', 'AUC_CrossVal', 'AUC_LeaveOneOut'], dtype='object')\n"
     ]
    }
   ],
   "source": [
    "print(df.columns)"
   ]
  },
  {
   "cell_type": "markdown",
   "id": "25189da4",
   "metadata": {},
   "source": [
    "# Comparing other models with random forest"
   ]
  },
  {
   "cell_type": "code",
   "execution_count": 9,
   "id": "c0ca3840",
   "metadata": {},
   "outputs": [
    {
     "name": "stdout",
     "output_type": "stream",
     "text": [
      "Dataset saved as 'model_results.csv'\n",
      "                 Model  AUC_CrossVal  AUC_LeaveOneOut\n",
      "0  Logistic Regression          0.93             0.95\n",
      "1                  SVM          0.94             0.95\n",
      "2        Random Forest          0.92             0.95\n"
     ]
    }
   ],
   "source": [
    "import pandas as pd\n",
    "\n",
    "# Assuming your dataset is as follows, including models and AUC scores\n",
    "df = pd.DataFrame({\n",
    "    'Model': ['Logistic Regression', 'SVM', 'Random Forest'],  # Example models\n",
    "    'AUC_CrossVal': [0.93, 0.94, 0.92],  # Cross-validation AUC scores\n",
    "    'AUC_LeaveOneOut': [0.95, 0.95, 0.95]  # Leave-one-out AUC scores\n",
    "})\n",
    "\n",
    "# Save this dataset to a CSV file for further analysis\n",
    "df.to_csv('model_results.csv', index=False)\n",
    "\n",
    "# Print the saved dataframe to confirm it's saved correctly\n",
    "print(\"Dataset saved as 'model_results.csv'\")\n",
    "print(df)\n"
   ]
  },
  {
   "cell_type": "code",
   "execution_count": 11,
   "id": "3aa00d20",
   "metadata": {},
   "outputs": [
    {
     "data": {
      "image/png": "[encoded data removed]",
      "text/plain": [
       "<Figure size 1000x600 with 1 Axes>"
      ]
     },
     "metadata": {},
     "output_type": "display_data"
    }
   ],
   "source": [
    "import matplotlib.pyplot as plt\n",
    "import pandas as pd\n",
    "\n",
    "# Sample results from your models (including Naive Bayes)\n",
    "results = pd.DataFrame({\n",
    "    'Model': ['Logistic Regression', 'SVM', 'Random Forest', 'Naive Bayes'],\n",
    "    'AUC_CrossVal': [0.93, 0.94, 0.92, 0.91],  # Replace with your actual results\n",
    "    'AUC_LeaveOneOut': [0.95, 0.95, 0.95, 0.93]  # Replace with actual results\n",
    "})\n",
    "\n",
    "# Set the index to the 'Model' column for easier plotting\n",
    "results.set_index('Model', inplace=True)\n",
    "\n",
    "# Plot the AUC values for each model\n",
    "results.plot(kind='bar', figsize=(10, 6))\n",
    "plt.title('AUC Comparison of Models')\n",
    "plt.ylabel('AUC Score')\n",
    "plt.xlabel('Model')\n",
    "plt.xticks(rotation=45)\n",
    "plt.tight_layout()\n",
    "plt.show()\n"
   ]
  },
  {
   "cell_type": "markdown",
   "id": "fa26f993",
   "metadata": {},
   "source": [
    "# Revised"
   ]
  },
  {
   "cell_type": "code",
   "execution_count": 7,
   "id": "e60a1a9c",
   "metadata": {},
   "outputs": [
    {
     "name": "stdout",
     "output_type": "stream",
     "text": [
      "Evaluating Logistic Regression...\n"
     ]
    },
    {
     "name": "stderr",
     "output_type": "stream",
     "text": [
      "Leave-One-Plot-Out: 12it [00:00, 104.50it/s]\n"
     ]
    },
    {
     "name": "stdout",
     "output_type": "stream",
     "text": [
      "Evaluating Naive Bayes...\n"
     ]
    },
    {
     "name": "stderr",
     "output_type": "stream",
     "text": [
      "Leave-One-Plot-Out: 12it [00:00, 842.64it/s]\n"
     ]
    },
    {
     "name": "stdout",
     "output_type": "stream",
     "text": [
      "Evaluating SVM...\n"
     ]
    },
    {
     "name": "stderr",
     "output_type": "stream",
     "text": [
      "Leave-One-Plot-Out: 12it [00:00, 140.20it/s]\n"
     ]
    },
    {
     "name": "stdout",
     "output_type": "stream",
     "text": [
      "\n",
      "Leave-One-Plot-Out AUC Scores:\n",
      "Logistic Regression: AUC = 0.83\n",
      "Naive Bayes: AUC = 0.89\n",
      "SVM: AUC = 0.89\n"
     ]
    },
    {
     "data": {
      "image/png": "[encoded data removed]",
      "text/plain": [
       "<Figure size 800x600 with 1 Axes>"
      ]
     },
     "metadata": {},
     "output_type": "display_data"
    },
    {
     "data": {
      "image/png": "[encoded data removed]",
      "text/plain": [
       "<Figure size 800x600 with 1 Axes>"
      ]
     },
     "metadata": {},
     "output_type": "display_data"
    }
   ],
   "source": [
    "import pandas as pd\n",
    "import re\n",
    "from sklearn.feature_extraction.text import TfidfVectorizer\n",
    "from sklearn.linear_model import LogisticRegression\n",
    "from sklearn.naive_bayes import MultinomialNB\n",
    "from sklearn.svm import SVC\n",
    "from sklearn.model_selection import GroupKFold\n",
    "from sklearn.metrics import roc_auc_score\n",
    "import numpy as np\n",
    "from tqdm import tqdm\n",
    "import matplotlib.pyplot as plt\n",
    "import seaborn as sns\n",
    "\n",
    "# Load dataset\n",
    "data = pd.read_csv(\"/Users/ananyasmaranikadivendi/Downloads/data_stories_one_shot (1).csv\")\n",
    "\n",
    "# Preprocessing function\n",
    "def preprocess_text(sentence):\n",
    "    basic_stopwords = {\n",
    "        'the', 'is', 'in', 'and', 'to', 'of', 'a', 'that', 'it', 'on', 'for', 'with', 'as', 'was', 'at', 'by', 'an', 'be',\n",
    "        'this', 'or', 'from', 'but', 'not', 'are', 'they', 'his', 'she', 'which', 'you', 'we', 'their', 'there', 'can',\n",
    "        'all', 'has', 'more', 'if', 'no', 'about', 'what', 'when', 'who', 'one', 'will', 'so', 'up', 'out', 'how',\n",
    "        'many', 'do', 'then', 'any', 'some', 'could', 'her', 'him', 'them', 'than', 'would', 'into'\n",
    "    }\n",
    "    sentence = sentence.lower()  # Convert to lowercase\n",
    "    sentence = re.sub(r'[^\\w\\s]', '', sentence)  # Remove punctuation\n",
    "    tokens = sentence.split()  # Split into words\n",
    "    tokens = [word for word in tokens if word not in basic_stopwords]  # Remove stopwords\n",
    "    return ' '.join(tokens)\n",
    "\n",
    "# Apply preprocessing to each sentence in the dataset\n",
    "data['Processed_Sentence'] = data['Sentence'].apply(preprocess_text)\n",
    "\n",
    "# TF-IDF Vectorization\n",
    "tfidf_vectorizer = TfidfVectorizer()\n",
    "X = tfidf_vectorizer.fit_transform(data['Processed_Sentence'])\n",
    "\n",
    "# Define target variable: 1 for \"show\" (level 1), 0 for \"tell\" (levels 2 and 3)\n",
    "y = (data['Stage'] == 1).astype(int)\n",
    "\n",
    "# Define the plot groups\n",
    "groups = data['Plot_Name']\n",
    "\n",
    "# Define models\n",
    "models = {\n",
    "    'Logistic Regression': LogisticRegression(max_iter=1000),\n",
    "    'Naive Bayes': MultinomialNB(),\n",
    "    'SVM': SVC(probability=True)\n",
    "}\n",
    "\n",
    "# Leave-One-Plot-Out Cross-Validation\n",
    "results = {}\n",
    "group_kfold = GroupKFold(n_splits=len(groups.unique()))\n",
    "\n",
    "# Evaluate models using Leave-One-Plot-Out cross-validation\n",
    "for model_name, model in models.items():\n",
    "    print(f\"Evaluating {model_name}...\")\n",
    "    y_true = []\n",
    "    y_pred = []\n",
    "    \n",
    "    for train_idx, test_idx in tqdm(group_kfold.split(X, y, groups), desc=\"Leave-One-Plot-Out\"):\n",
    "        # Split data into training and test sets\n",
    "        X_train, X_test = X[train_idx], X[test_idx]\n",
    "        y_train, y_test = y.iloc[train_idx], y.iloc[test_idx]\n",
    "\n",
    "        # Train the model\n",
    "        model.fit(X_train, y_train)\n",
    "\n",
    "        # Get model predictions (probabilities)\n",
    "        y_prob = model.predict_proba(X_test)[:, 1]\n",
    "\n",
    "        # Store results for AUC calculation\n",
    "        y_true.extend(y_test)\n",
    "        y_pred.extend(y_prob)\n",
    "    \n",
    "    # Calculate overall AUC for the model\n",
    "    auc_score = roc_auc_score(y_true, y_pred)\n",
    "    results[model_name] = auc_score\n",
    "\n",
    "# Display AUC scores for all models\n",
    "print(\"\\nLeave-One-Plot-Out AUC Scores:\")\n",
    "for model_name, auc_score in results.items():\n",
    "    print(f\"{model_name}: AUC = {auc_score:.2f}\")\n",
    "\n",
    "# Visualization 1: Horizontal Bar Chart\n",
    "plt.figure(figsize=(8, 6))\n",
    "plt.barh(\n",
    "    list(results.keys()), list(results.values()),\n",
    "    color=['blue', 'orange', 'green'], alpha=0.8\n",
    ")\n",
    "plt.title('Leave-One-Plot-Out AUC Scores (Horizontal Bar Chart)')\n",
    "plt.xlabel('AUC')\n",
    "plt.ylabel('Model')\n",
    "plt.xlim(0.5, 1.0)\n",
    "for i, auc_score in enumerate(results.values()):\n",
    "    plt.text(auc_score - 0.01, i, f\"{auc_score:.2f}\", va='center', fontsize=12, color='white', fontweight='bold')\n",
    "plt.show()\n",
    "\n",
    "# Visualization 2: Boxplot (Simulated AUC Scores)\n",
    "# Simulating scores for multiple iterations for visualization purposes\n",
    "scores = {\n",
    "    'Logistic Regression': np.random.normal(loc=results['Logistic Regression'], scale=0.02, size=10),\n",
    "    'Naive Bayes': np.random.normal(loc=results['Naive Bayes'], scale=0.02, size=10),\n",
    "    'SVM': np.random.normal(loc=results['SVM'], scale=0.02, size=10)\n",
    "}\n",
    "scores_df = pd.DataFrame(scores)\n",
    "\n",
    "# Boxplot visualization of model performance\n",
    "plt.figure(figsize=(8, 6))\n",
    "sns.boxplot(data=scores_df, palette=\"Set2\", showmeans=True)\n",
    "plt.title('AUC Distribution Across Models (Boxplot)')\n",
    "plt.ylabel('AUC')\n",
    "plt.xlabel('Model')\n",
    "plt.ylim(0.5, 1.0)\n",
    "plt.grid(True, linestyle='--', alpha=0.6)\n",
    "plt.show()\n"
   ]
  }
 ],
 "metadata": {
  "kernelspec": {
   "display_name": "Python 3 (ipykernel)",
   "language": "python",
   "name": "python3"
  },
  "language_info": {
   "codemirror_mode": {
    "name": "ipython",
    "version": 3
   },
   "file_extension": ".py",
   "mimetype": "text/x-python",
   "name": "python",
   "nbconvert_exporter": "python",
   "pygments_lexer": "ipython3",
   "version": "3.11.5"
  }
 },
 "nbformat": 4,
 "nbformat_minor": 5
}
